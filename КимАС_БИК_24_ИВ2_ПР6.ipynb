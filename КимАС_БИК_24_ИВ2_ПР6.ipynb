{
  "nbformat": 4,
  "nbformat_minor": 0,
  "metadata": {
    "colab": {
      "provenance": [],
      "authorship_tag": "ABX9TyMbKSWkkFdq4q4BNC1Pus+O",
      "include_colab_link": true
    },
    "kernelspec": {
      "name": "python3",
      "display_name": "Python 3"
    },
    "language_info": {
      "name": "python"
    }
  },
  "cells": [
    {
      "cell_type": "markdown",
      "metadata": {
        "id": "view-in-github",
        "colab_type": "text"
      },
      "source": [
        "<a href=\"https://colab.research.google.com/github/Fake-drop/raffaello/blob/main/%D0%9A%D0%B8%D0%BC%D0%90%D0%A1_%D0%91%D0%98%D0%9A_24_%D0%98%D0%922_%D0%9F%D0%A06.ipynb\" target=\"_parent\"><img src=\"https://colab.research.google.com/assets/colab-badge.svg\" alt=\"Open In Colab\"/></a>"
      ]
    },
    {
      "cell_type": "markdown",
      "source": [
        "Задание 1"
      ],
      "metadata": {
        "id": "w01xhRNCeNNb"
      }
    },
    {
      "cell_type": "code",
      "execution_count": null,
      "metadata": {
        "colab": {
          "base_uri": "https://localhost:8080/"
        },
        "id": "at_ixNGLZkqq",
        "outputId": "b0a93e4b-b9ea-4b51-8a84-2be3fc3c8efd"
      },
      "outputs": [
        {
          "output_type": "stream",
          "name": "stdout",
          "text": [
            "Numbers: [1, 2, 3, 4, 5, 6, 7, 8, 9, 10]\n",
            "Squares [1, 4, 9, 16, 25, 36, 49, 64, 81, 100]\n",
            "Cubes [1, 8, 27, 64, 125, 216, 343, 512, 729, 1000]\n"
          ]
        }
      ],
      "source": [
        "numbers = []\n",
        "squares = []\n",
        "cubes = []\n",
        "\n",
        "for i in range(1, 11):\n",
        "  numbers.append(i)\n",
        "  squares.append(i ** 2)\n",
        "  cubes.append(i ** 3)\n",
        "\n",
        "print(\"Numbers:\", numbers)\n",
        "print(\"Squares\", squares)\n",
        "print(\"Cubes\", cubes)"
      ]
    },
    {
      "cell_type": "markdown",
      "source": [
        "Задание 2.1"
      ],
      "metadata": {
        "id": "mzhnySQueSGC"
      }
    },
    {
      "cell_type": "code",
      "source": [
        "numbers = []\n",
        "\n",
        "while True:\n",
        "  num = int(input(\"Введите число (для завершения введите 0):\"))\n",
        "  if num == 0:\n",
        "    break\n",
        "  numbers.append(num)\n",
        "\n",
        "if numbers:\n",
        "  min_num = min(numbers)\n",
        "  print(f\"Минимальное значение веденной последовательности: {min_num}\")\n",
        "else:\n",
        "    print(\"Вы не ввели число.\")"
      ],
      "metadata": {
        "colab": {
          "base_uri": "https://localhost:8080/"
        },
        "id": "dHgp6Q1_bqk1",
        "outputId": "28e5785a-05d0-4300-9fdc-78ef06075569"
      },
      "execution_count": null,
      "outputs": [
        {
          "output_type": "stream",
          "name": "stdout",
          "text": [
            "Введите число (для завершения введите 0):4796234620\n",
            "Введите число (для завершения введите 0):0\n",
            "Минимальное значение веденной последовательности: 4796234620\n"
          ]
        }
      ]
    },
    {
      "cell_type": "markdown",
      "source": [
        "Задание 2.2"
      ],
      "metadata": {
        "id": "VgJKdWwRg17C"
      }
    },
    {
      "cell_type": "code",
      "source": [
        "numbers = []\n",
        "\n",
        "while True:\n",
        "  num = int(input(\"Введите число (для завершения введите 0):\"))\n",
        "  if num == 0:\n",
        "    break\n",
        "  numbers.append(num)\n",
        "\n",
        "if numbers:\n",
        "  max_num = max(numbers)\n",
        "  print(f\"Максимальное значение веденной последовательности: {max_num}\")\n",
        "else:\n",
        "    print(\"Вы не ввели число.\")"
      ],
      "metadata": {
        "colab": {
          "base_uri": "https://localhost:8080/"
        },
        "id": "dcmjRlmtd8L8",
        "outputId": "5b110098-9860-4a7c-ff29-c5e2c994ede9"
      },
      "execution_count": null,
      "outputs": [
        {
          "output_type": "stream",
          "name": "stdout",
          "text": [
            "Введите число (для завершения введите 0):87356\n",
            "Введите число (для завершения введите 0):0\n",
            "Максимальное значение веденной последовательности: 87356\n"
          ]
        }
      ]
    },
    {
      "cell_type": "markdown",
      "source": [
        "Задание 2.3"
      ],
      "metadata": {
        "id": "vZ_x3xBlhooD"
      }
    },
    {
      "cell_type": "code",
      "source": [
        "numbers = []\n",
        "\n",
        "while True:\n",
        "    num = int(input(\"Введите число (для завершения введите 0): \"))\n",
        "    if num == 0:\n",
        "        break\n",
        "    numbers.append(num)\n",
        "\n",
        "sorted_numbers = sorted(numbers)\n",
        "print(\"Отсортированный список чисел:\", sorted_numbers)\n",
        "3"
      ],
      "metadata": {
        "colab": {
          "base_uri": "https://localhost:8080/"
        },
        "id": "7wufu3ONh3H4",
        "outputId": "62b25a82-ce33-4074-a9c8-9557fa58ec88"
      },
      "execution_count": null,
      "outputs": [
        {
          "output_type": "stream",
          "name": "stdout",
          "text": [
            "Введите число (для завершения введите 0): 8\n",
            "Введите число (для завершения введите 0): 6\n",
            "Введите число (для завершения введите 0): 9\n",
            "Введите число (для завершения введите 0): 2\n",
            "Введите число (для завершения введите 0): 1\n",
            "Введите число (для завершения введите 0): 0\n",
            "Отсортированный список чисел: [1, 2, 6, 8, 9]\n"
          ]
        },
        {
          "output_type": "execute_result",
          "data": {
            "text/plain": [
              "3"
            ]
          },
          "metadata": {},
          "execution_count": 19
        }
      ]
    },
    {
      "cell_type": "markdown",
      "source": [
        "Задание 2.4\n"
      ],
      "metadata": {
        "id": "6e8Oy3h2iEGc"
      }
    },
    {
      "cell_type": "code",
      "source": [
        "numbers = []\n",
        "\n",
        "while True:\n",
        "    number = int(input(\"Введите число (для завершения введите 0): \"))\n",
        "    if number == 0:\n",
        "        break\n",
        "    numbers.append(number)\n",
        "\n",
        "numbers.sort(reverse=True)\n",
        "\n",
        "print(\"Отсортированный по убыванию список:\", numbers)\n",
        "8"
      ],
      "metadata": {
        "colab": {
          "base_uri": "https://localhost:8080/"
        },
        "id": "wp0al5bLiIq0",
        "outputId": "1776f5d2-0a12-4408-8d21-64331e015844"
      },
      "execution_count": null,
      "outputs": [
        {
          "output_type": "stream",
          "name": "stdout",
          "text": [
            "Введите число (для завершения введите 0): 7\n",
            "Введите число (для завершения введите 0): 9\n",
            "Введите число (для завершения введите 0): 3\n",
            "Введите число (для завершения введите 0): 5\n",
            "Введите число (для завершения введите 0): 0\n",
            "Отсортированный по убыванию список: [9, 7, 5, 3]\n"
          ]
        },
        {
          "output_type": "execute_result",
          "data": {
            "text/plain": [
              "8"
            ]
          },
          "metadata": {},
          "execution_count": 17
        }
      ]
    },
    {
      "cell_type": "markdown",
      "source": [
        "Задание 2.5\n"
      ],
      "metadata": {
        "id": "UnB3NBBbi1-B"
      }
    },
    {
      "cell_type": "code",
      "source": [
        "numbers = []\n",
        "while True:\n",
        "    number = int(input(\"Введите число (для завершения введите 0): \"))\n",
        "    if number == 0:\n",
        "        break\n",
        "    numbers.append(number)\n",
        "\n",
        "count = len(numbers)\n",
        "print(f\"Количество элементов в списке: {count}\")\n"
      ],
      "metadata": {
        "colab": {
          "base_uri": "https://localhost:8080/"
        },
        "id": "5VGwPV1Wi6yZ",
        "outputId": "f22573c6-2ef8-44bb-a4e2-9716848d722c"
      },
      "execution_count": null,
      "outputs": [
        {
          "output_type": "stream",
          "name": "stdout",
          "text": [
            "Введите число (для завершения введите 0): 5\n",
            "Введите число (для завершения введите 0): 6\n",
            "Введите число (для завершения введите 0): 3\n",
            "Введите число (для завершения введите 0): 7\n",
            "Введите число (для завершения введите 0): 0\n",
            "Количество элементов в списке: 4\n"
          ]
        }
      ]
    },
    {
      "cell_type": "markdown",
      "source": [
        "Задание 2.6\n"
      ],
      "metadata": {
        "id": "jheafvknjcmD"
      }
    },
    {
      "cell_type": "code",
      "source": [
        "\n",
        "count_ones = 0\n",
        "\n",
        "num_list = []\n",
        "while True:\n",
        "    num = int(input(\"Введите число: \"))\n",
        "\n",
        "    if num == 0:\n",
        "        break\n",
        "\n",
        "    num_list.append(num)\n",
        "\n",
        "for num in num_list:\n",
        "    if num == 1:\n",
        "        count_ones += 1\n",
        "\n",
        "print(f\"Количество единиц в списке: {count_ones}\")\n"
      ],
      "metadata": {
        "id": "lhO4JpoCjgth"
      },
      "execution_count": null,
      "outputs": []
    },
    {
      "cell_type": "markdown",
      "source": [
        "Задание 2.7"
      ],
      "metadata": {
        "id": "VMOSdQJmlE5n"
      }
    },
    {
      "cell_type": "code",
      "source": [
        "numbers = []\n",
        "while True:\n",
        "    num = int(input(\"Введите число (для завершения введите 0): \"))\n",
        "    if num == 0:\n",
        "        break\n",
        "    numbers.append(num)\n",
        "\n",
        "sum_numbers = sum(numbers)\n",
        "print(f\"Сумма всех введенных чисел: {sum_numbers}\")\n"
      ],
      "metadata": {
        "id": "v26ANgV_lwym"
      },
      "execution_count": null,
      "outputs": []
    },
    {
      "cell_type": "markdown",
      "source": [
        "Задание 2.8\n"
      ],
      "metadata": {
        "id": "d5D28ilgl9gK"
      }
    },
    {
      "cell_type": "code",
      "source": [
        "numbers = []\n",
        "while True:\n",
        "    num = int(input(\"Введите число (для завершения введите 0): \"))\n",
        "    if num == 0:\n",
        "        break\n",
        "    numbers.append(num)\n",
        "\n",
        "if numbers:\n",
        "    last_index = len(numbers) - 1\n",
        "    last_value = numbers[last_index]\n",
        "    print(f\"Индекс последнего введенного элемента: {last_index}, Значение: {last_value}\")\n",
        "else:\n",
        "    print(\"Список пустой.\")\n"
      ],
      "metadata": {
        "id": "SrbKgpXymCMN"
      },
      "execution_count": null,
      "outputs": []
    },
    {
      "cell_type": "code",
      "source": [],
      "metadata": {
        "id": "hgd3XHhvO2rI"
      },
      "execution_count": null,
      "outputs": []
    }
  ]
}