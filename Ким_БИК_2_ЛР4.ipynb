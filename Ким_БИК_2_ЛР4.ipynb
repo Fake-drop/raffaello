{
  "nbformat": 4,
  "nbformat_minor": 0,
  "metadata": {
    "colab": {
      "provenance": [],
      "authorship_tag": "ABX9TyM3jyTxcCsdGiXGj1tsuvWL",
      "include_colab_link": true
    },
    "kernelspec": {
      "name": "python3",
      "display_name": "Python 3"
    },
    "language_info": {
      "name": "python"
    }
  },
  "cells": [
    {
      "cell_type": "markdown",
      "metadata": {
        "id": "view-in-github",
        "colab_type": "text"
      },
      "source": [
        "<a href=\"https://colab.research.google.com/github/Fake-drop/raffaello/blob/main/%D0%9A%D0%B8%D0%BC_%D0%91%D0%98%D0%9A_2_%D0%9B%D0%A04.ipynb\" target=\"_parent\"><img src=\"https://colab.research.google.com/assets/colab-badge.svg\" alt=\"Open In Colab\"/></a>"
      ]
    },
    {
      "cell_type": "code",
      "execution_count": 7,
      "metadata": {
        "colab": {
          "base_uri": "https://localhost:8080/"
        },
        "id": "2_YGxESrLuCy",
        "outputId": "4441c7d2-15da-4425-dc01-ceb20b4c9a88"
      },
      "outputs": [
        {
          "output_type": "stream",
          "name": "stdout",
          "text": [
            "400\n",
            "Ошибочное введение\n"
          ]
        }
      ],
      "source": [
        "a = int(input())\n",
        "match (a):\n",
        "  case 405:\n",
        "    print(\"Ошибочный запрос\")\n",
        "  case 404:\n",
        "    print(\"Не найдено\")\n",
        "  case 403:\n",
        "    print(\"Ошибка поиска\")\n",
        "  case 402:\n",
        "    print(\"Ошибочная строка\")\n",
        "  case 401:\n",
        "    print(\"Ошибка\")\n",
        "  case 400:\n",
        "    print(\"Ошибочное введение\")\n",
        "  case _:\n",
        "    print(\"WoW\")\n",
        ""
      ]
    },
    {
      "cell_type": "code",
      "source": [
        "a = int(input())\n",
        "c = int(input())\n",
        "if (a > 0 and c > 0):\n",
        "  print(\"tochka v pervoi chetverty\")\n",
        "if (a < 0 and c > 0):\n",
        "  print(\"tochka vo vtoroi chetverty\")\n",
        "if (a < 0 and c < 0):\n",
        "  print(\"tochka v tret'ei chetverty\")\n",
        "if (a > 0 and c < 0):\n",
        "  print(\"vvedite chislo\")"
      ],
      "metadata": {
        "colab": {
          "base_uri": "https://localhost:8080/"
        },
        "id": "ujAxjR8FSr-7",
        "outputId": "17e36d33-7445-4ce1-e599-0f07d845e7f0"
      },
      "execution_count": 28,
      "outputs": [
        {
          "output_type": "stream",
          "name": "stdout",
          "text": [
            "1\n",
            "4\n",
            "tochka v pervoi chetverty\n"
          ]
        }
      ]
    },
    {
      "cell_type": "code",
      "source": [
        "a = int(input())\n",
        "b"
      ],
      "metadata": {
        "id": "YxtV5mrLWiTq"
      },
      "execution_count": null,
      "outputs": []
    }
  ]
}