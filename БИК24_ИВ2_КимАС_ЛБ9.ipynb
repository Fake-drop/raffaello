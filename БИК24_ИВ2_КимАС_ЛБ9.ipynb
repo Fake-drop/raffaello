{
  "nbformat": 4,
  "nbformat_minor": 0,
  "metadata": {
    "colab": {
      "provenance": [],
      "authorship_tag": "ABX9TyMzN9+yQ5lp4Fj+Yi1GraoP",
      "include_colab_link": true
    },
    "kernelspec": {
      "name": "python3",
      "display_name": "Python 3"
    },
    "language_info": {
      "name": "python"
    }
  },
  "cells": [
    {
      "cell_type": "markdown",
      "metadata": {
        "id": "view-in-github",
        "colab_type": "text"
      },
      "source": [
        "<a href=\"https://colab.research.google.com/github/Fake-drop/raffaello/blob/main/%D0%91%D0%98%D0%9A24_%D0%98%D0%922_%D0%9A%D0%B8%D0%BC%D0%90%D0%A1_%D0%9B%D0%919.ipynb\" target=\"_parent\"><img src=\"https://colab.research.google.com/assets/colab-badge.svg\" alt=\"Open In Colab\"/></a>"
      ]
    },
    {
      "cell_type": "markdown",
      "source": [
        "Задание 1.1 (18.12)"
      ],
      "metadata": {
        "id": "xyaj0osSrDDb"
      }
    },
    {
      "cell_type": "code",
      "execution_count": 6,
      "metadata": {
        "colab": {
          "base_uri": "https://localhost:8080/"
        },
        "id": "pnW8BkHbpLpF",
        "outputId": "dc6c7705-c465-40b0-8ace-9833aa526d98"
      },
      "outputs": [
        {
          "output_type": "stream",
          "name": "stdout",
          "text": [
            "Введите число (0 для завершения): 10\n",
            "Введите число (0 для завершения): 29\n",
            "Введите число (0 для завершения): 549\n",
            "Введите число (0 для завершения): 0\n",
            "{10: 1, 29: 1, 549: 1}\n"
          ]
        }
      ],
      "source": [
        "def count_numbers():\n",
        "    number_count = {}\n",
        "\n",
        "    while True:\n",
        "        number = int(input(\"Введите число (0 для завершения): \"))\n",
        "        if number == 0:\n",
        "            break\n",
        "        if number in number_count:\n",
        "            number_count[number] += 1\n",
        "        else:\n",
        "            number_count[number] = 1\n",
        "\n",
        "    return number_count\n",
        "\n",
        "result = count_numbers()\n",
        "print(result)\n"
      ]
    },
    {
      "cell_type": "markdown",
      "source": [
        "Задание 1.2 (18.12)"
      ],
      "metadata": {
        "id": "AdNdwiAyrMKS"
      }
    },
    {
      "cell_type": "code",
      "source": [
        "def unique_numbers():\n",
        "    numbers = []\n",
        "    while True:\n",
        "        num = int(input(\"Введите число (0 для завершения ввода): \"))\n",
        "        if num == 0:\n",
        "            break\n",
        "        numbers.append(num)\n",
        "\n",
        "    unique_values = list(set(numbers))\n",
        "    return unique_values\n",
        "\n",
        "result = unique_numbers()\n",
        "print(\"Список уникальных значений:\", result)\n"
      ],
      "metadata": {
        "colab": {
          "base_uri": "https://localhost:8080/"
        },
        "id": "cGhub55QqfSq",
        "outputId": "112f008c-2ca9-4092-bbde-d04ac1e88b6a"
      },
      "execution_count": 10,
      "outputs": [
        {
          "output_type": "stream",
          "name": "stdout",
          "text": [
            "Введите число (0 для завершения ввода): 43\n",
            "Введите число (0 для завершения ввода): 43\n",
            "Введите число (0 для завершения ввода): 87\n",
            "Введите число (0 для завершения ввода): 12\n",
            "Введите число (0 для завершения ввода): 87\n",
            "Введите число (0 для завершения ввода): 0\n",
            "Список уникальных значений: [43, 12, 87]\n"
          ]
        }
      ]
    },
    {
      "cell_type": "markdown",
      "source": [
        "Задание 2.1 (18.12)"
      ],
      "metadata": {
        "id": "Q4NVyOR7rTUi"
      }
    },
    {
      "cell_type": "code",
      "source": [
        "def phone_book():\n",
        "    book = {}\n",
        "\n",
        "    while True:\n",
        "        print(\"\\nЭлектронная телефонная книга\")\n",
        "        print(\"1. Добавить новую запись\")\n",
        "        print(\"2. Выход\")\n",
        "        choice = input(\"Выберите действие: \")\n",
        "\n",
        "        if choice == '1':\n",
        "            name = input(\"Введите имя: \")\n",
        "            phone_number = input(\"Введите номер телефона: \")\n",
        "            book[name] = phone_number\n",
        "            print(f\"Запись добавлена: {name} - {phone_number}\")\n",
        "\n",
        "        elif choice == '2':\n",
        "            print(\"Выход из телефонной книги.\")\n",
        "            break\n",
        "        else:\n",
        "            print(\"Неверный выбор. Пожалуйста, попробуйте снова.\")\n",
        "\n",
        "    return book\n",
        "\n",
        "# Запуск телефонной книги\n",
        "phone_book()\n"
      ],
      "metadata": {
        "colab": {
          "base_uri": "https://localhost:8080/"
        },
        "id": "aq-ppTpVrYIb",
        "outputId": "10cfcb9e-7a92-4a25-c399-b115980795ab"
      },
      "execution_count": 11,
      "outputs": [
        {
          "output_type": "stream",
          "name": "stdout",
          "text": [
            "\n",
            "Электронная телефонная книга\n",
            "1. Добавить новую запись\n",
            "2. Выход\n",
            "Выберите действие: 1\n",
            "Введите имя: даня\n",
            "Введите номер телефона: +79994251234\n",
            "Запись добавлена: даня - +79994251234\n",
            "\n",
            "Электронная телефонная книга\n",
            "1. Добавить новую запись\n",
            "2. Выход\n",
            "Выберите действие: 2\n",
            "Выход из телефонной книги.\n"
          ]
        },
        {
          "output_type": "execute_result",
          "data": {
            "text/plain": [
              "{'даня': '+79994251234'}"
            ]
          },
          "metadata": {},
          "execution_count": 11
        }
      ]
    },
    {
      "cell_type": "markdown",
      "source": [
        "Задание 2.2 (18.12)"
      ],
      "metadata": {
        "id": "9xC_UaRgsBXL"
      }
    },
    {
      "cell_type": "code",
      "source": [],
      "metadata": {
        "id": "DqQSFboKsGyr"
      },
      "execution_count": null,
      "outputs": []
    }
  ]
}