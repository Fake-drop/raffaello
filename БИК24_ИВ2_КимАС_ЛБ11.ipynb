{
  "nbformat": 4,
  "nbformat_minor": 0,
  "metadata": {
    "colab": {
      "provenance": [],
      "authorship_tag": "ABX9TyMLrX0jOigNgNo6RNoL1mwc",
      "include_colab_link": true
    },
    "kernelspec": {
      "name": "python3",
      "display_name": "Python 3"
    },
    "language_info": {
      "name": "python"
    }
  },
  "cells": [
    {
      "cell_type": "markdown",
      "metadata": {
        "id": "view-in-github",
        "colab_type": "text"
      },
      "source": [
        "<a href=\"https://colab.research.google.com/github/Fake-drop/raffaello/blob/main/%D0%91%D0%98%D0%9A24_%D0%98%D0%922_%D0%9A%D0%B8%D0%BC%D0%90%D0%A1_%D0%9B%D0%9111.ipynb\" target=\"_parent\"><img src=\"https://colab.research.google.com/assets/colab-badge.svg\" alt=\"Open In Colab\"/></a>"
      ]
    },
    {
      "cell_type": "markdown",
      "source": [
        "Задание 1 (25.12.24)"
      ],
      "metadata": {
        "id": "Tapv7NWgqndz"
      }
    },
    {
      "cell_type": "code",
      "source": [
        "def sum_numbers():\n",
        "    total = 0\n",
        "    while True:\n",
        "        number = int(input(\"Введите число (0 для завершения): \"))\n",
        "        if number == 0:\n",
        "            break\n",
        "        total += number\n",
        "    return total\n",
        "\n",
        "result = sum_numbers()\n",
        "print(\"Сумма введенных чисел:\", result)"
      ],
      "metadata": {
        "colab": {
          "base_uri": "https://localhost:8080/"
        },
        "id": "X8JrY-Udqs8C",
        "outputId": "5c4c3f6e-697b-458a-dc65-83b8f3561436"
      },
      "execution_count": 2,
      "outputs": [
        {
          "output_type": "stream",
          "name": "stdout",
          "text": [
            "Введите число (0 для завершения): 5\n",
            "Введите число (0 для завершения): 4\n",
            "Введите число (0 для завершения): 3\n",
            "Введите число (0 для завершения): 0\n",
            "Сумма введенных чисел: 12\n"
          ]
        }
      ]
    }
  ]
}