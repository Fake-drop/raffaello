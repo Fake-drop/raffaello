{
  "nbformat": 4,
  "nbformat_minor": 0,
  "metadata": {
    "colab": {
      "provenance": [],
      "authorship_tag": "ABX9TyP39SOUFpIF0ZTdDPoskBAi",
      "include_colab_link": true
    },
    "kernelspec": {
      "name": "python3",
      "display_name": "Python 3"
    },
    "language_info": {
      "name": "python"
    }
  },
  "cells": [
    {
      "cell_type": "markdown",
      "metadata": {
        "id": "view-in-github",
        "colab_type": "text"
      },
      "source": [
        "<a href=\"https://colab.research.google.com/github/Fake-drop/raffaello/blob/main/%D0%9B%D0%91_1_%D0%A8%D0%BD%D0%B5%D0%B9%D0%B4%D0%B5%D1%80%D0%90_%D0%9A%D0%B8%D0%BC%D0%90_%D0%91%D0%98%D0%9A_24_%D0%98%D0%922.ipynb\" target=\"_parent\"><img src=\"https://colab.research.google.com/assets/colab-badge.svg\" alt=\"Open In Colab\"/></a>"
      ]
    },
    {
      "cell_type": "markdown",
      "source": [
        "Задание №1"
      ],
      "metadata": {
        "id": "JO0A8_Bp8y5d"
      }
    },
    {
      "cell_type": "code",
      "execution_count": 1,
      "metadata": {
        "id": "QcMqidbH8gVG",
        "colab": {
          "base_uri": "https://localhost:8080/"
        },
        "outputId": "e58d4a5d-27f4-49ae-9634-8d466460e7d6"
      },
      "outputs": [
        {
          "output_type": "stream",
          "name": "stdout",
          "text": [
            "Введите ваше имя: Артём\n",
            "Введите ваш возраст: 20\n",
            "Введите ваш рост в см: 170\n",
            "Вуассалам аалейкум, Артём! Тебе 20 лет, и твой рост — 170 см.\n"
          ]
        }
      ],
      "source": [
        "name = input(\"Введите ваше имя: \")\n",
        "age = input(\"Введите ваш возраст: \")\n",
        "height = input(\"Введите ваш рост в см: \")\n",
        "print(f\"Вуассалам аалейкум, {name}! Тебе {age} лет, и твой рост — {height} см.\")"
      ]
    },
    {
      "cell_type": "markdown",
      "source": [
        "Задание №2"
      ],
      "metadata": {
        "id": "-K0Oyq_w83hZ"
      }
    },
    {
      "cell_type": "code",
      "source": [
        "number = int(input(\"Введите целое число: \"))\n",
        "if number % 2 == 0:\n",
        "    parity = \"чётное\"\n",
        "else:\n",
        "    parity = \"нечётное\"\n",
        "\n",
        "if number > 0:\n",
        "    sign = \"положительное\"\n",
        "elif number < 0:\n",
        "    sign = \"отрицательное\"\n",
        "else:\n",
        "    sign = \"ноль\"\n",
        "\n",
        "print(f\"Число {number} является {parity} и {sign}.\")"
      ],
      "metadata": {
        "colab": {
          "base_uri": "https://localhost:8080/"
        },
        "id": "mCz1CAeUBvwu",
        "outputId": "d3531c6d-24c1-4419-9314-bb7968bbae35"
      },
      "execution_count": 2,
      "outputs": [
        {
          "output_type": "stream",
          "name": "stdout",
          "text": [
            "Введите целое число: 1\n",
            "Число 1 является нечётное и положительное.\n"
          ]
        }
      ]
    },
    {
      "cell_type": "markdown",
      "source": [
        "Задание №3"
      ],
      "metadata": {
        "id": "SLuOsNFs86Tv"
      }
    },
    {
      "cell_type": "code",
      "source": [
        "numbers = []\n",
        "\n",
        "for i in range(5):\n",
        "    num = float(input(f\"Введите число {i + 1}: \"))\n",
        "    numbers.append(num)\n",
        "\n",
        "total_sum = sum(numbers)\n",
        "\n",
        "max_number = max(numbers)\n",
        "min_number = min(numbers)\n",
        "\n",
        "print(f\"Сумма всех чисел: {total_sum}\")\n",
        "print(f\"Наибольшее число: {max_number}\")\n",
        "print(f\"Наименьшее число: {min_number}\")"
      ],
      "metadata": {
        "colab": {
          "base_uri": "https://localhost:8080/"
        },
        "id": "r2ek2StFCFl4",
        "outputId": "13b7efe5-3f4b-4c54-cd42-5511b2907ade"
      },
      "execution_count": 3,
      "outputs": [
        {
          "output_type": "stream",
          "name": "stdout",
          "text": [
            "Введите число 1: 2\n",
            "Введите число 2: 4\n",
            "Введите число 3: 5\n",
            "Введите число 4: 6\n",
            "Введите число 5: 0\n",
            "Сумма всех чисел: 17.0\n",
            "Наибольшее число: 6.0\n",
            "Наименьшее число: 0.0\n"
          ]
        }
      ]
    },
    {
      "cell_type": "markdown",
      "source": [
        "Задание №4"
      ],
      "metadata": {
        "id": "a_B5uKco8-lz"
      }
    },
    {
      "cell_type": "code",
      "source": [
        "def sum_of_evens(numbers):\n",
        "    return sum(num for num in numbers if num % 2 == 0)\n",
        "\n",
        "result = sum_of_evens([1, 2, 3, 4, 5, 6])\n",
        "print(result)"
      ],
      "metadata": {
        "colab": {
          "base_uri": "https://localhost:8080/"
        },
        "id": "LAurwKsWCsck",
        "outputId": "8019aabd-7f12-4eea-c374-b8262b97215a"
      },
      "execution_count": 5,
      "outputs": [
        {
          "output_type": "stream",
          "name": "stdout",
          "text": [
            "12\n"
          ]
        }
      ]
    },
    {
      "cell_type": "markdown",
      "source": [
        "Задание №5"
      ],
      "metadata": {
        "id": "h8CmufZY9EFW"
      }
    },
    {
      "cell_type": "code",
      "source": [
        "def generate_squares(n):\n",
        "\n",
        "    return [i ** 2 for i in range(1, n + 1)]\n",
        "\n",
        "result = generate_squares(5)\n",
        "print(result)  # Вывод: [1, 4, 9, 16, 25]"
      ],
      "metadata": {
        "colab": {
          "base_uri": "https://localhost:8080/"
        },
        "id": "uVQSlxCdDL-M",
        "outputId": "052f8087-1c88-4f7a-86af-735f7d9058fa"
      },
      "execution_count": 6,
      "outputs": [
        {
          "output_type": "stream",
          "name": "stdout",
          "text": [
            "[1, 4, 9, 16, 25]\n"
          ]
        }
      ]
    },
    {
      "cell_type": "markdown",
      "source": [
        "Задание №6"
      ],
      "metadata": {
        "id": "vmcq8j9b9Fwi"
      }
    },
    {
      "cell_type": "code",
      "source": [
        "def filter_noise(signal, threshold):\n",
        "    filtered_signal = [value for value in signal if abs(value) >= threshold]\n",
        "    return filtered_signal\n",
        "\n",
        "result = filter_noise([0.1, 0.5, -0.3, 0.8, -0.9, 0.2], 0.4)\n",
        "print(result)  # Вывод: [0.5, 0.8, -0.9]"
      ],
      "metadata": {
        "colab": {
          "base_uri": "https://localhost:8080/"
        },
        "id": "G--pZSiwDZbu",
        "outputId": "cf064053-e293-417b-8654-ebd435ae6716"
      },
      "execution_count": 7,
      "outputs": [
        {
          "output_type": "stream",
          "name": "stdout",
          "text": [
            "[0.5, 0.8, -0.9]\n"
          ]
        }
      ]
    },
    {
      "cell_type": "markdown",
      "source": [
        "Задание №7"
      ],
      "metadata": {
        "id": "qq8exQPA9Hrm"
      }
    },
    {
      "cell_type": "code",
      "source": [
        "def normalize_signal(signal):\n",
        "    max_value = max(abs(value) for value in signal)\n",
        "\n",
        "    normalized_signal = [value / max_value for value in signal]\n",
        "    return normalized_signal\n",
        "\n",
        "result = normalize_signal([2, -4, 6, -8, 10])\n",
        "print(result)  # Вывод: [0.2, -0.4, 0.6, -0.8, 1.0]"
      ],
      "metadata": {
        "colab": {
          "base_uri": "https://localhost:8080/"
        },
        "id": "nnC5wHyvDtF1",
        "outputId": "cf65148a-ba10-4d91-fdd9-3f0d0cffda0f"
      },
      "execution_count": 8,
      "outputs": [
        {
          "output_type": "stream",
          "name": "stdout",
          "text": [
            "[0.2, -0.4, 0.6, -0.8, 1.0]\n"
          ]
        }
      ]
    }
  ]
}