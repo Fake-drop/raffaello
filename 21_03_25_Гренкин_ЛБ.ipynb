{
  "nbformat": 4,
  "nbformat_minor": 0,
  "metadata": {
    "colab": {
      "provenance": [],
      "authorship_tag": "ABX9TyPqAMzCkPiJTpJPds16ymCg",
      "include_colab_link": true
    },
    "kernelspec": {
      "name": "python3",
      "display_name": "Python 3"
    },
    "language_info": {
      "name": "python"
    }
  },
  "cells": [
    {
      "cell_type": "markdown",
      "metadata": {
        "id": "view-in-github",
        "colab_type": "text"
      },
      "source": [
        "<a href=\"https://colab.research.google.com/github/Fake-drop/raffaello/blob/main/21_03_25_%D0%93%D1%80%D0%B5%D0%BD%D0%BA%D0%B8%D0%BD_%D0%9B%D0%91.ipynb\" target=\"_parent\"><img src=\"https://colab.research.google.com/assets/colab-badge.svg\" alt=\"Open In Colab\"/></a>"
      ]
    },
    {
      "cell_type": "code",
      "execution_count": 24,
      "metadata": {
        "colab": {
          "base_uri": "https://localhost:8080/"
        },
        "id": "Gg2tDnm0ExsO",
        "outputId": "fb54ede3-6d81-43e9-8372-a4c7edd974a1"
      },
      "outputs": [
        {
          "output_type": "stream",
          "name": "stdout",
          "text": [
            "0\n",
            "2\n",
            "1\n",
            "2\n",
            "-1\n",
            "2\n",
            "14\n",
            "1\n"
          ]
        }
      ],
      "source": [
        "# Вход: a – упорядоченный по возрастанию список,\n",
        "# x – число\n",
        "# Выход: индекс наибольшего элемента i:\n",
        "# a[i] <= x или -1, если такого индекса нет\n",
        "def upper_bound(a, x):\n",
        "    n = len(a)\n",
        "    l = 0\n",
        "    r = n - 1\n",
        "    while l <= r:\n",
        "        m = (l + r) // 2\n",
        "        if a[m] <= x:\n",
        "            l = m + 1\n",
        "        else:\n",
        "            r = m - 1\n",
        "    return r\n",
        "\n",
        "\n",
        "a = [1, 2, 3, 4, 5, 6, 7, 8, 9, 10]\n",
        "x = 1\n",
        "print(upper_bound(a, x))\n",
        "\n",
        "a = [1, 2, 3]\n",
        "x = 3\n",
        "print(upper_bound(a, x))\n",
        "\n",
        "a = [2, 4, 6, 8, 10]\n",
        "x = 4\n",
        "print(upper_bound(a, x))\n",
        "\n",
        "a = [1, 3, 5, 7, 9]\n",
        "x = 5\n",
        "print(upper_bound(a, x))\n",
        "\n",
        "a = [1, 5, 10]\n",
        "x = 0\n",
        "print(upper_bound(a, x))\n",
        "\n",
        "a = [1, 2, 3, 4, 5]\n",
        "x = 3\n",
        "print(upper_bound(a, x))\n",
        "\n",
        "a = [1, 2, 3, 4, 5, 6, 7, 8, 9, 10, 11, 12, 13, 14, 15]\n",
        "x = 15\n",
        "print(upper_bound(a, x))\n",
        "\n",
        "a = [1, 2, 3, 4, 5]\n",
        "x = 2\n",
        "print(upper_bound(a, x))"
      ]
    },
    {
      "cell_type": "markdown",
      "source": [
        "Про анекдоты"
      ],
      "metadata": {
        "id": "9hyES3aKGEAY"
      }
    },
    {
      "cell_type": "code",
      "source": [
        "def min_calls(n):\n",
        "  if n == 4:\n",
        "    return 2 # База индукции\n",
        "  else:\n",
        "\n",
        "    return 2 + min_calls(n - 1)\n",
        "    n = 10\n",
        "    print(f\"минимальное количество звонков для {n} человек: {min_calls(n)}\")\n",
        "\n",
        "\n"
      ],
      "metadata": {
        "id": "TB2KbyHTGHQh"
      },
      "execution_count": 19,
      "outputs": []
    },
    {
      "cell_type": "code",
      "source": [
        "def min_calls(n):\n",
        "    if n == 4:\n",
        "        return 2  # База индукции\n",
        "    else:\n",
        "        return 2 + min_calls(n - 1)\n",
        "\n",
        "# Пример использования\n",
        "n = 5  # Замените на любое n > 3\n",
        "print(f\"Минимальное количество звонков для {n} человек: {min_calls(n)}\")\n"
      ],
      "metadata": {
        "colab": {
          "base_uri": "https://localhost:8080/"
        },
        "id": "twiSp8z1KKeP",
        "outputId": "9410adb8-f048-4a92-db29-ed6c548f97e6"
      },
      "execution_count": 25,
      "outputs": [
        {
          "output_type": "stream",
          "name": "stdout",
          "text": [
            "Минимальное количество звонков для 5 человек: 4\n"
          ]
        }
      ]
    },
    {
      "cell_type": "code",
      "source": [
        "# Вход: количество человек n (n > 3)\n",
        "# Выход: список пар (2-кортежей)\n",
        "# номеров людей (от 1 до n):\n",
        "# кто с кем разговаривает,\n",
        "# звонков должно быть не более 2n-4\n",
        "def sol_anecdotes(n):\n",
        " # место для вашего решения\n",
        " if n == 4:\n",
        " return [(1, 2), (3, 4), (1, 3), (2, 4)]\n",
        " else:\n",
        " return []\n",
        " def test_anecdotes(n):\n",
        "    ans = sol_anecdotes(n)  # вызов функции, решающей задачу\n",
        "    # проверка количества звонков\n",
        "    if len(ans) > 2 * n - 4:\n",
        "        return False\n",
        "    # инициализация: сначала каждый знает только свой анекдот\n",
        "    # для каждого человека храним множество известных ему анекдотов\n",
        "    familiar_anecdotes = []\n",
        "    for i in range(n):\n",
        "        familiar_anecdotes.append({i})\n",
        "    # для каждого звонка обновляем множества известных анекдотов\n",
        "    for call in ans:\n",
        "        abonent1, abonent2 = call\n",
        "        if not (abonent1 >= 1 and abonent1 <= n) or not (abonent2 >= 1 and abonent2 <= n):\n",
        "            return False\n",
        "        # приводим индексы к индексации с 0\n",
        "        abonent1 -= 1\n",
        "        abonent2 -= 1\n",
        "        sum_anecdotes = familiar_anecdotes[abonent1].union(familiar_anecdotes[abonent2])\n",
        "        familiar_anecdotes[abonent1] = sum_anecdotes\n",
        "        familiar_anecdotes[abonent2] = sum_anecdotes\n",
        "    ok = True\n",
        "    for i in range(n):\n",
        "        ok = ok and len(familiar_anecdotes[i]) == n\n",
        "    return ok"
      ],
      "metadata": {
        "id": "Z_vC1O1cTLOT",
        "outputId": "04d73c41-570a-4cb6-9e05-345d7c2ea7dc",
        "colab": {
          "base_uri": "https://localhost:8080/",
          "height": 106
        }
      },
      "execution_count": 26,
      "outputs": [
        {
          "output_type": "error",
          "ename": "IndentationError",
          "evalue": "expected an indented block after 'if' statement on line 8 (<ipython-input-26-df2819b3208c>, line 9)",
          "traceback": [
            "\u001b[0;36m  File \u001b[0;32m\"<ipython-input-26-df2819b3208c>\"\u001b[0;36m, line \u001b[0;32m9\u001b[0m\n\u001b[0;31m    return [(1, 2), (3, 4), (1, 3), (2, 4)]\u001b[0m\n\u001b[0m    ^\u001b[0m\n\u001b[0;31mIndentationError\u001b[0m\u001b[0;31m:\u001b[0m expected an indented block after 'if' statement on line 8\n"
          ]
        }
      ]
    },
    {
      "cell_type": "markdown",
      "source": [
        "Про печенье"
      ],
      "metadata": {
        "id": "jJPdJmd-KXbe"
      }
    },
    {
      "cell_type": "code",
      "source": [
        "def can_buy_cookies(n):\n",
        "    # Проверяем, можем ли мы составить число n с помощью пачек по 6 и 13\n",
        "    for i in range(n // 6 + 1):\n",
        "        for j in range(n // 13 + 1):\n",
        "            if 6 * i + 13 * j == n:\n",
        "                return True\n",
        "    return False\n",
        "\n",
        "# Проверяем числа от 0 до 100\n",
        "results = {n: can_buy_cookies(n) for n in range(101)}\n",
        "\n",
        "# Выводим результаты\n",
        "for n in results:\n",
        "    print(f\"{n} печений можно купить: {results[n]}\")\n"
      ],
      "metadata": {
        "colab": {
          "base_uri": "https://localhost:8080/"
        },
        "id": "XsACZbxuKaaT",
        "outputId": "fb167eac-9db8-4b00-fd2d-098e1c007d08"
      },
      "execution_count": 22,
      "outputs": [
        {
          "output_type": "stream",
          "name": "stdout",
          "text": [
            "0 печений можно купить: True\n",
            "1 печений можно купить: False\n",
            "2 печений можно купить: False\n",
            "3 печений можно купить: False\n",
            "4 печений можно купить: False\n",
            "5 печений можно купить: False\n",
            "6 печений можно купить: True\n",
            "7 печений можно купить: False\n",
            "8 печений можно купить: False\n",
            "9 печений можно купить: False\n",
            "10 печений можно купить: False\n",
            "11 печений можно купить: False\n",
            "12 печений можно купить: True\n",
            "13 печений можно купить: True\n",
            "14 печений можно купить: False\n",
            "15 печений можно купить: False\n",
            "16 печений можно купить: False\n",
            "17 печений можно купить: False\n",
            "18 печений можно купить: True\n",
            "19 печений можно купить: True\n",
            "20 печений можно купить: False\n",
            "21 печений можно купить: False\n",
            "22 печений можно купить: False\n",
            "23 печений можно купить: False\n",
            "24 печений можно купить: True\n",
            "25 печений можно купить: True\n",
            "26 печений можно купить: True\n",
            "27 печений можно купить: False\n",
            "28 печений можно купить: False\n",
            "29 печений можно купить: False\n",
            "30 печений можно купить: True\n",
            "31 печений можно купить: True\n",
            "32 печений можно купить: True\n",
            "33 печений можно купить: False\n",
            "34 печений можно купить: False\n",
            "35 печений можно купить: False\n",
            "36 печений можно купить: True\n",
            "37 печений можно купить: True\n",
            "38 печений можно купить: True\n",
            "39 печений можно купить: True\n",
            "40 печений можно купить: False\n",
            "41 печений можно купить: False\n",
            "42 печений можно купить: True\n",
            "43 печений можно купить: True\n",
            "44 печений можно купить: True\n",
            "45 печений можно купить: True\n",
            "46 печений можно купить: False\n",
            "47 печений можно купить: False\n",
            "48 печений можно купить: True\n",
            "49 печений можно купить: True\n",
            "50 печений можно купить: True\n",
            "51 печений можно купить: True\n",
            "52 печений можно купить: True\n",
            "53 печений можно купить: False\n",
            "54 печений можно купить: True\n",
            "55 печений можно купить: True\n",
            "56 печений можно купить: True\n",
            "57 печений можно купить: True\n",
            "58 печений можно купить: True\n",
            "59 печений можно купить: False\n",
            "60 печений можно купить: True\n",
            "61 печений можно купить: True\n",
            "62 печений можно купить: True\n",
            "63 печений можно купить: True\n",
            "64 печений можно купить: True\n",
            "65 печений можно купить: True\n",
            "66 печений можно купить: True\n",
            "67 печений можно купить: True\n",
            "68 печений можно купить: True\n",
            "69 печений можно купить: True\n",
            "70 печений можно купить: True\n",
            "71 печений можно купить: True\n",
            "72 печений можно купить: True\n",
            "73 печений можно купить: True\n",
            "74 печений можно купить: True\n",
            "75 печений можно купить: True\n",
            "76 печений можно купить: True\n",
            "77 печений можно купить: True\n",
            "78 печений можно купить: True\n",
            "79 печений можно купить: True\n",
            "80 печений можно купить: True\n",
            "81 печений можно купить: True\n",
            "82 печений можно купить: True\n",
            "83 печений можно купить: True\n",
            "84 печений можно купить: True\n",
            "85 печений можно купить: True\n",
            "86 печений можно купить: True\n",
            "87 печений можно купить: True\n",
            "88 печений можно купить: True\n",
            "89 печений можно купить: True\n",
            "90 печений можно купить: True\n",
            "91 печений можно купить: True\n",
            "92 печений можно купить: True\n",
            "93 печений можно купить: True\n",
            "94 печений можно купить: True\n",
            "95 печений можно купить: True\n",
            "96 печений можно купить: True\n",
            "97 печений можно купить: True\n",
            "98 печений можно купить: True\n",
            "99 печений можно купить: True\n",
            "100 печений можно купить: True\n"
          ]
        }
      ]
    },
    {
      "cell_type": "code",
      "source": [
        "# Вход: количество печеньев n (n >= 60)\n",
        "# Выход: двухэлементный кортеж (a, b)\n",
        "# a >= 0, b >= 0, 6a + 13b = n\n",
        "# (a - количество пачек по 6 печеньев,\n",
        "# b - количество пачек по 13 печеньев)\n",
        "def sol_cookies(n):\n",
        " # место для вашего решения\n",
        " # (решением должен быть алгоритм,\n",
        " # работающий на любом возможном тесте)\n",
        " if n == 60:\n",
        "4\n",
        " return 10, 0\n",
        " elif n == 61:\n",
        " return 8, 1\n",
        " else:\n",
        " return 0, 0\n",
        " # Вход: количество печеньев n (n >= 60)\n",
        "# Выход: двухэлементный кортеж (a, b)\n",
        "# a >= 0, b >= 0, 6a + 13b = n\n",
        "# (a - количество пачек по 6 печеньев, b - количество пачек по 13 печеньев)\n",
        "def sol_cookies(n):\n",
        "    # место для вашего решения\n",
        "    # (решением должен быть алгоритм, работающий на любом возможном тесте)\n",
        "    if n == 60:\n",
        "        return 10, 0\n",
        "    elif n == 61:\n",
        "        return 8, 1\n",
        "    else:\n",
        "        return 0, 0\n",
        "\n",
        "\n",
        "# Тестирование решения задачи \"Печенья\" на заданном тесте\n",
        "def test_cookies(n):\n",
        "    a, b = sol_cookies(n)\n",
        "    return a >= 0 and b >= 0 and 6 * a + 13 * b == n\n"
      ],
      "metadata": {
        "id": "fzTztq5TTkI8",
        "outputId": "4aa63e60-ae27-4fd5-9c0a-ffd36ca798b4",
        "colab": {
          "base_uri": "https://localhost:8080/",
          "height": 106
        }
      },
      "execution_count": 27,
      "outputs": [
        {
          "output_type": "error",
          "ename": "IndentationError",
          "evalue": "expected an indented block after 'if' statement on line 10 (<ipython-input-27-23e032851de7>, line 11)",
          "traceback": [
            "\u001b[0;36m  File \u001b[0;32m\"<ipython-input-27-23e032851de7>\"\u001b[0;36m, line \u001b[0;32m11\u001b[0m\n\u001b[0;31m    4\u001b[0m\n\u001b[0m     ^\u001b[0m\n\u001b[0;31mIndentationError\u001b[0m\u001b[0;31m:\u001b[0m expected an indented block after 'if' statement on line 10\n"
          ]
        }
      ]
    }
  ]
}