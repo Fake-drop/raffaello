{
  "nbformat": 4,
  "nbformat_minor": 0,
  "metadata": {
    "colab": {
      "provenance": [],
      "authorship_tag": "ABX9TyNlHnRLM5uX5q2o64A7H6+W",
      "include_colab_link": true
    },
    "kernelspec": {
      "name": "python3",
      "display_name": "Python 3"
    },
    "language_info": {
      "name": "python"
    }
  },
  "cells": [
    {
      "cell_type": "markdown",
      "metadata": {
        "id": "view-in-github",
        "colab_type": "text"
      },
      "source": [
        "<a href=\"https://colab.research.google.com/github/Fake-drop/raffaello/blob/main/%D0%91%D0%98%D0%9A_24%D0%98%D0%922_%D0%9A%D0%B8%D0%BC%D0%90%D0%A1_%D0%94%D0%97_4_%D0%9D%D0%B5%D0%B4%D0%B5%D0%BB%D1%8F5.ipynb\" target=\"_parent\"><img src=\"https://colab.research.google.com/assets/colab-badge.svg\" alt=\"Open In Colab\"/></a>"
      ]
    },
    {
      "cell_type": "markdown",
      "source": [],
      "metadata": {
        "id": "6V0iFeKBnPgX"
      }
    },
    {
      "cell_type": "markdown",
      "source": [
        "1. Последовательность чисел"
      ],
      "metadata": {
        "id": "CyY1PhL1ufg-"
      }
    },
    {
      "cell_type": "code",
      "source": [
        "numbers = input().split()  # Вводим последовательность чисел\n",
        "seen = set()  # Множество для хранения уникальных чисел\n",
        "\n",
        "for number in numbers:\n",
        "    if number in seen:\n",
        "        print(\"YES\")\n",
        "    else:\n",
        "        print(\"NO\")\n",
        "        seen.add(number)\n"
      ],
      "metadata": {
        "colab": {
          "base_uri": "https://localhost:8080/"
        },
        "id": "lR8aNOz-nbS7",
        "outputId": "60fb5eeb-fcf7-47db-97d6-6b696105f422"
      },
      "execution_count": 2,
      "outputs": [
        {
          "output_type": "stream",
          "name": "stdout",
          "text": [
            "1 2 3 4 1 1 0\n",
            "NO\n",
            "NO\n",
            "NO\n",
            "NO\n",
            "YES\n",
            "YES\n",
            "NO\n"
          ]
        }
      ]
    },
    {
      "cell_type": "markdown",
      "source": [
        "2. Метро"
      ],
      "metadata": {
        "id": "s5GzjZINun67"
      }
    },
    {
      "cell_type": "code",
      "source": [
        "from collections import defaultdict, deque\n",
        "\n",
        "def min_transfers(N, lines, A, B):\n",
        "    # Создаем граф, где ключ — станция, а значение — список линий\n",
        "    station_lines = defaultdict(list)\n",
        "    for line_index, stations in enumerate(lines):\n",
        "        for station in stations:\n",
        "            station_lines[station].append(line_index)\n",
        "\n",
        "    # Создаем граф для BFS, где ключ — линия, а значение — список станций\n",
        "    line_graph = defaultdict(set)\n",
        "    for stations in lines:\n",
        "        for i in range(len(stations)):\n",
        "            for j in range(i + 1, len(stations)):\n",
        "                line_graph[stations[i]].add(stations[j])\n",
        "                line_graph[stations[j]].add(stations[i])\n",
        "\n",
        "    # BFS для поиска минимального количества пересадок\n",
        "    queue = deque([(A, 0)])  # (текущая станция, количество пересадок)\n",
        "    visited_stations = set()\n",
        "    visited_lines = set()\n",
        "\n",
        "    while queue:\n",
        "        current_station, transfers = queue.popleft()\n",
        "\n",
        "        if current_station == B:\n",
        "            return transfers\n",
        "\n",
        "        visited_stations.add(current_station)\n",
        "\n",
        "        for line in station_lines[current_station]:\n",
        "            if line not in visited_lines:\n",
        "                visited_lines.add(line)\n",
        "                for next_station in lines[line]:\n",
        "                    if next_station not in visited_stations:\n",
        "                        queue.append((next_station, transfers + 1))\n",
        "\n",
        "    return -1  # Невозможно добраться до станции B\n",
        "\n",
        "# Пример использования\n",
        "N = 5  # количество станций\n",
        "lines = [\n",
        "    [1, 2, 3],\n",
        "    [3, 4],\n",
        "    [2, 4, 5],\n",
        "    [1, 5]\n",
        "]\n",
        "A = 1  # станция отправления\n",
        "B = 5  # станция назначения\n",
        "\n",
        "print(min_transfers(N, lines, A, B))  # Вывод: минимальное количество пересадок\n"
      ],
      "metadata": {
        "colab": {
          "base_uri": "https://localhost:8080/"
        },
        "id": "dPLnlw4UuqpQ",
        "outputId": "e7b5da4a-0c3a-473f-9e85-37afddce9798"
      },
      "execution_count": 6,
      "outputs": [
        {
          "output_type": "stream",
          "name": "stdout",
          "text": [
            "1\n"
          ]
        }
      ]
    },
    {
      "cell_type": "markdown",
      "source": [
        "3. Словарь стран"
      ],
      "metadata": {
        "id": "PDQD1E79vAaB"
      }
    },
    {
      "cell_type": "code",
      "source": [
        "def find_countries(countries_cities, cities_to_check):\n",
        "    city_to_country = {}\n",
        "\n",
        "    # Заполняем словарь городов и стран\n",
        "    for country, cities in countries_cities.items():\n",
        "        for city in cities:\n",
        "            city_to_country[city] = country\n",
        "\n",
        "    # Проверяем, в какой стране находится каждый город\n",
        "    results = {}\n",
        "    for city in cities_to_check:\n",
        "        results[city] = city_to_country.get(city, \"Не найден\")\n",
        "\n",
        "    return results\n",
        "\n",
        "# Пример использования\n",
        "countries_cities = {\n",
        "    \"Россия\": [\"Москва\", \"Санкт-Петербург\", \"Новосибирск\"],\n",
        "    \"США\": [\"Нью-Йорк\", \"Лос-Анджелес\", \"Чикаго\"],\n",
        "    \"Франция\": [\"Париж\", \"Марсель\", \"Лион\"]\n",
        "}\n",
        "\n",
        "cities_to_check = [\"Москва\", \"Нью-Йорк\", \"Париж\", \"Токио\"]\n",
        "\n",
        "results = find_countries(countries_cities, cities_to_check)\n",
        "for city, country in results.items():\n",
        "    print(f\"{city}: {country}\")\n",
        "\n"
      ],
      "metadata": {
        "colab": {
          "base_uri": "https://localhost:8080/"
        },
        "id": "iEFPCNyFvFUG",
        "outputId": "2fed50b2-3564-4a85-de5f-963038213f4a"
      },
      "execution_count": 5,
      "outputs": [
        {
          "output_type": "stream",
          "name": "stdout",
          "text": [
            "Москва: Россия\n",
            "Нью-Йорк: США\n",
            "Париж: Франция\n",
            "Токио: Не найден\n"
          ]
        }
      ]
    },
    {
      "cell_type": "markdown",
      "source": [
        "3.1 Выборы"
      ],
      "metadata": {
        "id": "pwEze9CgvPSu"
      }
    },
    {
      "cell_type": "code",
      "source": [
        "def tally_votes(states):\n",
        "    results = {}  # Словарь для хранения результатов голосования\n",
        "\n",
        "    for state in states:\n",
        "        candidate, votes = state['candidate'], state['votes']\n",
        "\n",
        "        # Обновляем количество голосов для кандидата\n",
        "        if candidate in results:\n",
        "            results[candidate] += votes\n",
        "        else:\n",
        "            results[candidate] = votes\n",
        "\n",
        "    return results\n",
        "\n",
        "# Пример использования\n",
        "states = [\n",
        "    {'candidate': 'Кандидат А', 'votes': 10},\n",
        "    {'candidate': 'Кандидат Б', 'votes': 5},\n",
        "    {'candidate': 'Кандидат А', 'votes': 15},\n",
        "    {'candidate': 'Кандидат В', 'votes': 7},\n",
        "    {'candidate': 'Кандидат Б', 'votes': 8}\n",
        "]\n",
        "\n",
        "results = tally_votes(states)\n",
        "for candidate, votes in results.items():\n",
        "    print(f\"{candidate}: {votes} голосов\")\n"
      ],
      "metadata": {
        "colab": {
          "base_uri": "https://localhost:8080/"
        },
        "id": "AtSaWRaUvTEt",
        "outputId": "99e0012e-a924-4fdb-cb39-dad09c489de8"
      },
      "execution_count": 7,
      "outputs": [
        {
          "output_type": "stream",
          "name": "stdout",
          "text": [
            "Кандидат А: 25 голосов\n",
            "Кандидат Б: 13 голосов\n",
            "Кандидат В: 7 голосов\n"
          ]
        }
      ]
    },
    {
      "cell_type": "markdown",
      "source": [
        "4. Анализ частотности"
      ],
      "metadata": {
        "id": "_m8QbEmxvY2O"
      }
    },
    {
      "cell_type": "code",
      "source": [
        "def count_words(text):\n",
        "    # Приводим текст к нижнему регистру и разбиваем на слова\n",
        "    words = text.lower().split()\n",
        "\n",
        "    # Словарь для подсчета частоты слов\n",
        "    word_count = {}\n",
        "\n",
        "    for word in words:\n",
        "        # Убираем возможные знаки препинания\n",
        "        word = ''.join(char for char in word if char.isalnum())\n",
        "        if word:\n",
        "            word_count[word] = word_count.get(word, 0) + 1\n",
        "\n",
        "    # Сортируем слова по убыванию частоты и лексикографически\n",
        "    sorted_words = sorted(word_count.items(), key=lambda item: (-item[1], item[0]))\n",
        "\n",
        "    # Выводим результаты\n",
        "    for word, count in sorted_words:\n",
        "        print(word)\n",
        "\n",
        "# Пример использования\n",
        "text = \"Пример текста с некоторыми словами. Слова могут повторяться, слова - это важно!\"\n",
        "count_words(text)\n"
      ],
      "metadata": {
        "colab": {
          "base_uri": "https://localhost:8080/"
        },
        "id": "r5Me3s0IvdM5",
        "outputId": "599edc7a-eeb9-42c2-8a49-d50c047c87fd"
      },
      "execution_count": 8,
      "outputs": [
        {
          "output_type": "stream",
          "name": "stdout",
          "text": [
            "слова\n",
            "важно\n",
            "могут\n",
            "некоторыми\n",
            "повторяться\n",
            "пример\n",
            "с\n",
            "словами\n",
            "текста\n",
            "это\n"
          ]
        }
      ]
    },
    {
      "cell_type": "markdown",
      "source": [
        "5. Система управления"
      ],
      "metadata": {
        "id": "8-cAObFSvr9r"
      }
    },
    {
      "cell_type": "code",
      "source": [
        "class Bank:\n",
        "    def __init__(self):\n",
        "        self.accounts = {}\n",
        "\n",
        "    def deposit(self, name, amount):\n",
        "        if name not in self.accounts:\n",
        "            self.accounts[name] = 0\n",
        "        self.accounts[name] += amount\n",
        "\n",
        "    def withdraw(self, name, amount):\n",
        "        if name not in self.accounts:\n",
        "            self.accounts[name] = 0\n",
        "        self.accounts[name] -= amount\n",
        "\n",
        "    def balance(self, name):\n",
        "        if name not in self.accounts:\n",
        "            return \"ERROR\"\n",
        "        return self.accounts[name]\n",
        "\n",
        "    def transfer(self, from_name, to_name, amount):\n",
        "        if from_name not in self.accounts:\n",
        "            self.accounts[from_name] = 0\n",
        "        if to_name not in self.accounts:\n",
        "            self.accounts[to_name] = 0\n",
        "        self.accounts[from_name] -= amount\n",
        "        self.accounts[to_name] += amount\n",
        "\n",
        "    def income(self, percentage):\n",
        "        for name in self.accounts:\n",
        "            if self.accounts[name] > 0:\n",
        "                interest = self.accounts[name] * percentage // 100\n",
        "                self.accounts[name] += interest\n",
        "\n",
        "# Пример использования класса\n",
        "bank = Bank()\n",
        "\n",
        "# Ввод операций\n",
        "operations = [\n",
        "    \"DEPOSIT Alice 100\",\n",
        "    \"WITHDRAW Bob 50\",\n",
        "    \"BALANCE Alice\",\n",
        "    \"TRANSFER Alice Bob 30\",\n",
        "    \"INCOME 10\",\n",
        "    \"BALANCE Alice\",\n",
        "    \"BALANCE Bob\",\n",
        "    \"WITHDRAW Philip 20\",\n",
        "    \"BALANCE Philip\"\n",
        "]\n",
        "\n",
        "for operation in operations:\n",
        "    parts = operation.split()\n",
        "    command = parts[0]\n",
        "\n",
        "    if command == \"DEPOSIT\":\n",
        "        name = parts[1]\n",
        "        amount = int(parts[2])\n",
        "        bank.deposit(name, amount)\n",
        "    elif command == \"WITHDRAW\":\n",
        "        name = parts[1]\n",
        "        amount = int(parts[2])\n",
        "        bank.withdraw(name, amount)\n",
        "    elif command == \"BALANCE\":\n",
        "        name = parts[1]\n",
        "        print(bank.balance(name))\n",
        "    elif command == \"TRANSFER\":\n",
        "        from_name = parts[1]\n",
        "        to_name = parts[2]\n",
        "        amount = int(parts[3])\n",
        "        bank.transfer(from_name, to_name, amount)\n",
        "    elif command == \"INCOME\":\n",
        "        percentage = int(parts[1])\n",
        "        bank.income(percentage)\n",
        "\n"
      ],
      "metadata": {
        "colab": {
          "base_uri": "https://localhost:8080/"
        },
        "id": "wguri2yrvrV1",
        "outputId": "294d40df-8eee-4c82-cbc7-ef216452bd30"
      },
      "execution_count": 9,
      "outputs": [
        {
          "output_type": "stream",
          "name": "stdout",
          "text": [
            "100\n",
            "77\n",
            "-20\n",
            "-20\n"
          ]
        }
      ]
    },
    {
      "cell_type": "markdown",
      "source": [
        "6."
      ],
      "metadata": {
        "id": "o2vgoLAqv2RB"
      }
    },
    {
      "cell_type": "code",
      "source": [
        "def create_matrix(n, m):\n",
        "    # Создаем матрицу n x m\n",
        "    matrix = [[0] * m for _ in range(n)]\n",
        "    num = 0\n",
        "\n",
        "    # Заполнение матрицы по заданному принципу\n",
        "    for i in range(n):\n",
        "        if i % 2 == 0:  # Четные строки заполняем слева направо\n",
        "            for j in range(m):\n",
        "                matrix[i][j] = num\n",
        "                num += 1\n",
        "        else:  # Нечетные строки заполняем справа налево\n",
        "            for j in range(m - 1, -1, -1):\n",
        "                matrix[i][j] = num\n",
        "                num += 1\n",
        "\n",
        "    return matrix\n",
        "\n",
        "def main():\n",
        "    # Ввод данных\n",
        "    n, m, x, y = map(int, input(\"Введите N, M, X, Y (через пробел): \").split())\n",
        "\n",
        "    # Создание и заполнение матрицы\n",
        "    matrix = create_matrix(n, m)\n",
        "\n",
        "    # Получение элемента из строки X и столбца Y (корректируем индексы на 1)\n",
        "    result = matrix[x - 1][y - 1]\n",
        "\n",
        "    # Вывод результата\n",
        "    print(result)\n",
        "\n",
        "if __name__ == \"__main__\":\n",
        "    main()\n",
        "\n"
      ],
      "metadata": {
        "colab": {
          "base_uri": "https://localhost:8080/"
        },
        "id": "J3JZsZP6v3Nu",
        "outputId": "0ac37fa2-80b0-482d-e200-ed5f8856bd55"
      },
      "execution_count": 13,
      "outputs": [
        {
          "output_type": "stream",
          "name": "stdout",
          "text": [
            "Введите N, M, X, Y (через пробел): 3 4 2 3 \n",
            "5\n"
          ]
        }
      ]
    },
    {
      "cell_type": "markdown",
      "source": [
        "7. Корова на поле"
      ],
      "metadata": {
        "id": "D6Bao1YfyDFW"
      }
    },
    {
      "cell_type": "code",
      "source": [
        "def main():\n",
        "    # Ввод размера поля\n",
        "    N = int(input(\"Введите размер поля N: \"))\n",
        "\n",
        "    # Ввод калорийности в клетках\n",
        "    calories = []\n",
        "    for i in range(N):\n",
        "        row = list(map(int, input(\"Введите калории для ряда {}: \".format(N - i))).split())\n",
        "        calories.append(row)\n",
        "\n",
        "    # Начальная позиция коровы\n",
        "    x, y = N - 1, 0  # нижний левый угол\n",
        "\n",
        "    total_calories = 0\n",
        "\n",
        "    while True:\n",
        "        total_calories += calories[x][y]\n",
        "\n",
        "        # Если достигли правого верхнего угла\n",
        "        if x == 0 and y == N - 1:\n",
        "            break\n",
        "\n",
        "        # Определяем возможные движения\n",
        "        right = (y + 1 < N)  # вправо\n",
        "        up = (x - 1 >= 0)  # вверх\n",
        "\n",
        "        # Посмотрим калорийность в кратчайшем пути вверх и вправо\n",
        "        if right and up:\n",
        "            if calories[x - 1][y] > calories[x][y + 1]:  # сравниваем калории\n",
        "                x -= 1  # движение вверх\n",
        "            else:\n",
        "                y += 1  # движение вправо\n",
        "        elif right:  # можно двигаться только вправо\n",
        "            y += 1\n",
        "        elif up:  # можно двигаться только вверх\n",
        "            x -= 1\n",
        "\n",
        "    print(\"Общее количество калорий:\", total_calories)\n",
        "\n",
        "if __name__ == \"__main__\":\n",
        "    main()\n",
        "\n"
      ],
      "metadata": {
        "colab": {
          "base_uri": "https://localhost:8080/",
          "height": 349
        },
        "id": "K3w4xmxcyGgx",
        "outputId": "c8b74ab9-2388-41da-f188-c294169e773a"
      },
      "execution_count": 25,
      "outputs": [
        {
          "name": "stdout",
          "output_type": "stream",
          "text": [
            "Введите размер поля N: 3\n",
            "Введите калории для ряда 3: 1 2 3 \n"
          ]
        },
        {
          "output_type": "error",
          "ename": "AttributeError",
          "evalue": "'map' object has no attribute 'split'",
          "traceback": [
            "\u001b[0;31m---------------------------------------------------------------------------\u001b[0m",
            "\u001b[0;31mAttributeError\u001b[0m                            Traceback (most recent call last)",
            "\u001b[0;32m<ipython-input-25-a795b3d0ad48>\u001b[0m in \u001b[0;36m<cell line: 40>\u001b[0;34m()\u001b[0m\n\u001b[1;32m     39\u001b[0m \u001b[0;34m\u001b[0m\u001b[0m\n\u001b[1;32m     40\u001b[0m \u001b[0;32mif\u001b[0m \u001b[0m__name__\u001b[0m \u001b[0;34m==\u001b[0m \u001b[0;34m\"__main__\"\u001b[0m\u001b[0;34m:\u001b[0m\u001b[0;34m\u001b[0m\u001b[0;34m\u001b[0m\u001b[0m\n\u001b[0;32m---> 41\u001b[0;31m     \u001b[0mmain\u001b[0m\u001b[0;34m(\u001b[0m\u001b[0;34m)\u001b[0m\u001b[0;34m\u001b[0m\u001b[0;34m\u001b[0m\u001b[0m\n\u001b[0m\u001b[1;32m     42\u001b[0m \u001b[0;34m\u001b[0m\u001b[0m\n",
            "\u001b[0;32m<ipython-input-25-a795b3d0ad48>\u001b[0m in \u001b[0;36mmain\u001b[0;34m()\u001b[0m\n\u001b[1;32m      6\u001b[0m     \u001b[0mcalories\u001b[0m \u001b[0;34m=\u001b[0m \u001b[0;34m[\u001b[0m\u001b[0;34m]\u001b[0m\u001b[0;34m\u001b[0m\u001b[0;34m\u001b[0m\u001b[0m\n\u001b[1;32m      7\u001b[0m     \u001b[0;32mfor\u001b[0m \u001b[0mi\u001b[0m \u001b[0;32min\u001b[0m \u001b[0mrange\u001b[0m\u001b[0;34m(\u001b[0m\u001b[0mN\u001b[0m\u001b[0;34m)\u001b[0m\u001b[0;34m:\u001b[0m\u001b[0;34m\u001b[0m\u001b[0;34m\u001b[0m\u001b[0m\n\u001b[0;32m----> 8\u001b[0;31m         \u001b[0mrow\u001b[0m \u001b[0;34m=\u001b[0m \u001b[0mlist\u001b[0m\u001b[0;34m(\u001b[0m\u001b[0mmap\u001b[0m\u001b[0;34m(\u001b[0m\u001b[0mint\u001b[0m\u001b[0;34m,\u001b[0m \u001b[0minput\u001b[0m\u001b[0;34m(\u001b[0m\u001b[0;34m\"Введите калории для ряда {}: \"\u001b[0m\u001b[0;34m.\u001b[0m\u001b[0mformat\u001b[0m\u001b[0;34m(\u001b[0m\u001b[0mN\u001b[0m \u001b[0;34m-\u001b[0m \u001b[0mi\u001b[0m\u001b[0;34m)\u001b[0m\u001b[0;34m)\u001b[0m\u001b[0;34m)\u001b[0m\u001b[0;34m.\u001b[0m\u001b[0msplit\u001b[0m\u001b[0;34m(\u001b[0m\u001b[0;34m)\u001b[0m\u001b[0;34m)\u001b[0m\u001b[0;34m\u001b[0m\u001b[0;34m\u001b[0m\u001b[0m\n\u001b[0m\u001b[1;32m      9\u001b[0m         \u001b[0mcalories\u001b[0m\u001b[0;34m.\u001b[0m\u001b[0mappend\u001b[0m\u001b[0;34m(\u001b[0m\u001b[0mrow\u001b[0m\u001b[0;34m)\u001b[0m\u001b[0;34m\u001b[0m\u001b[0;34m\u001b[0m\u001b[0m\n\u001b[1;32m     10\u001b[0m \u001b[0;34m\u001b[0m\u001b[0m\n",
            "\u001b[0;31mAttributeError\u001b[0m: 'map' object has no attribute 'split'"
          ]
        }
      ]
    },
    {
      "cell_type": "markdown",
      "source": [
        "8. Петр Первый"
      ],
      "metadata": {
        "id": "YoqVcgpNzWeQ"
      }
    },
    {
      "cell_type": "code",
      "source": [
        "def main():\n",
        "    # Ввод числа X\n",
        "    X = int(input(\"Введите число X: \"))\n",
        "\n",
        "    # Ввод размера таблицы N\n",
        "    N = int(input(\"Введите размер N: \"))\n",
        "\n",
        "    # Инициализация таблицы\n",
        "    table = []\n",
        "\n",
        "    # Заполнение таблицы\n",
        "    for i in range(N):\n",
        "        row = list(map(int, input(f\"Введите {i + 1}-ю строку через пробел: \").split()))\n",
        "        table.append(row)\n",
        "\n",
        "    # Проверка каждого столбца на наличие числа X\n",
        "    for col in range(N):\n",
        "        found = False\n",
        "        for row in range(N):\n",
        "            if table[row][col] == X:\n",
        "                found = True\n",
        "                break\n",
        "        if found:\n",
        "            print(\"YES\")\n",
        "        else:\n",
        "            print(\"NO\")\n",
        "\n",
        "if __name__ == \"__main__\":\n",
        "    main()\n",
        "\n"
      ],
      "metadata": {
        "colab": {
          "base_uri": "https://localhost:8080/"
        },
        "id": "htUEiQ0AzbEW",
        "outputId": "fab84939-6c11-45d3-ee66-1bc0820e1042"
      },
      "execution_count": 26,
      "outputs": [
        {
          "output_type": "stream",
          "name": "stdout",
          "text": [
            "Введите число X: 5\n",
            "Введите размер N: 3\n",
            "Введите 1-ю строку через пробел: 1 2 3\n",
            "Введите 2-ю строку через пробел: 4 5 6 \n",
            "Введите 3-ю строку через пробел: 7 8 9\n",
            "NO\n",
            "YES\n",
            "NO\n"
          ]
        }
      ]
    },
    {
      "cell_type": "markdown",
      "source": [
        "9. База данных интернет-магазина"
      ],
      "metadata": {
        "id": "h8IROfsCzm9W"
      }
    },
    {
      "cell_type": "code",
      "source": [
        "def main():\n",
        "    import sys\n",
        "    from collections import defaultdict\n",
        "\n",
        "    # Используем defaultdict для хранения данных о покупках\n",
        "    purchases = defaultdict(lambda: defaultdict(int))\n",
        "\n",
        "    # Чтение данных из стандартного ввода\n",
        "    for line in sys.stdin:\n",
        "        line = line.strip()\n",
        "        if not line:\n",
        "            continue\n",
        "        buyer, product, quantity = line.split()\n",
        "        quantity = int(quantity)\n",
        "\n",
        "        # Записываем количество товара для каждого покупателя\n",
        "        purchases[buyer][product] += quantity\n",
        "\n",
        "    # Подготовка и сортировка данных для вывода\n",
        "    sorted_buyers = sorted(purchases.keys())  # Сортируем покупателей\n",
        "\n",
        "    output_lines = []\n",
        "\n",
        "    for buyer in sorted_buyers:\n",
        "        output_lines.append(f\"{buyer}:\")\n",
        "        sorted_products = sorted(purchases[buyer].keys())  # Сортируем товары покупателя\n",
        "        for product in sorted_products:\n",
        "            output_lines.append(f\"{product} {purchases[buyer][product]}\")\n",
        "\n",
        "    # Вывод результатов\n",
        "    print(\"\\n\".join(output_lines))\n",
        "\n",
        "\n",
        "if __name__ == \"__main__\":\n",
        "    main()\n"
      ],
      "metadata": {
        "colab": {
          "base_uri": "https://localhost:8080/"
        },
        "id": "rTw99wW_zw9S",
        "outputId": "1a611f90-5948-42da-d614-713ab91c0d11"
      },
      "execution_count": 33,
      "outputs": [
        {
          "output_type": "stream",
          "name": "stdout",
          "text": [
            "\n"
          ]
        }
      ]
    },
    {
      "cell_type": "markdown",
      "source": [
        "10. Файловая система"
      ],
      "metadata": {
        "id": "KaSt6XKv0HG_"
      }
    },
    {
      "cell_type": "code",
      "source": [
        "# Чтение данных\n",
        "N = int(input())\n",
        "file_permissions = {}\n",
        "\n",
        "# Заполняем словарь с правами доступа к файлам\n",
        "for _ in range(N):\n",
        "    line = input().split()\n",
        "    file_name = line[0]\n",
        "    operations = line[1:]\n",
        "    file_permissions[file_name] = set(operations)\n",
        "\n",
        "M = int(input())\n",
        "\n",
        "# Обработка запросов\n",
        "for _ in range(M):\n",
        "    operation, file_name = input().split()\n",
        "    # Приводим операции к нужным значениям\n",
        "    operation = operation.lower()  # делаем все операции строчными для единообразия\n",
        "    if operation == 'read':\n",
        "        operation = 'R'\n",
        "    elif operation == 'write':\n",
        "        operation = 'W'\n",
        "    elif operation == 'execute':\n",
        "        operation = 'X'\n",
        "\n",
        "    # Проверяем, если файл есть в словаре и разрешена ли операция\n",
        "    if file_name in file_permissions and operation in file_permissions[file_name]:\n",
        "        print(\"OK\")\n",
        "    else:\n",
        "        print(\"Access denied\")\n",
        "\n",
        "\n"
      ],
      "metadata": {
        "colab": {
          "base_uri": "https://localhost:8080/"
        },
        "id": "GJf35GDr0LW0",
        "outputId": "a874b5c6-6a84-4289-c66f-b49c76e8fefa"
      },
      "execution_count": null,
      "outputs": [
        {
          "name": "stdout",
          "output_type": "stream",
          "text": [
            "1\n",
            "2\n",
            "3\n"
          ]
        }
      ]
    }
  ]
}