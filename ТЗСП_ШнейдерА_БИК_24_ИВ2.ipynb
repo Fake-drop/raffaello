{
  "nbformat": 4,
  "nbformat_minor": 0,
  "metadata": {
    "colab": {
      "provenance": [],
      "authorship_tag": "ABX9TyOrJQpRPKkYd5FWbLljD31O",
      "include_colab_link": true
    },
    "kernelspec": {
      "name": "python3",
      "display_name": "Python 3"
    },
    "language_info": {
      "name": "python"
    }
  },
  "cells": [
    {
      "cell_type": "markdown",
      "metadata": {
        "id": "view-in-github",
        "colab_type": "text"
      },
      "source": [
        "<a href=\"https://colab.research.google.com/github/Fake-drop/raffaello/blob/main/%D0%A2%D0%97%D0%A1%D0%9F_%D0%A8%D0%BD%D0%B5%D0%B9%D0%B4%D0%B5%D1%80%D0%90_%D0%91%D0%98%D0%9A_24_%D0%98%D0%922.ipynb\" target=\"_parent\"><img src=\"https://colab.research.google.com/assets/colab-badge.svg\" alt=\"Open In Colab\"/></a>"
      ]
    },
    {
      "cell_type": "markdown",
      "source": [
        "Задание №1"
      ],
      "metadata": {
        "id": "6uxyzZahGImk"
      }
    },
    {
      "cell_type": "code",
      "execution_count": 4,
      "metadata": {
        "id": "DQxyB7-oGH6N",
        "colab": {
          "base_uri": "https://localhost:8080/",
          "height": 211
        },
        "outputId": "0ccb037d-c35f-42d6-e17a-b57575fcfb36"
      },
      "outputs": [
        {
          "output_type": "error",
          "ename": "NameError",
          "evalue": "name 'python' is not defined",
          "traceback": [
            "\u001b[0;31m---------------------------------------------------------------------------\u001b[0m",
            "\u001b[0;31mNameError\u001b[0m                                 Traceback (most recent call last)",
            "\u001b[0;32m<ipython-input-4-e03639c6b2c5>\u001b[0m in \u001b[0;36m<cell line: 0>\u001b[0;34m()\u001b[0m\n\u001b[0;32m----> 1\u001b[0;31m \u001b[0mpython\u001b[0m\u001b[0;34m\u001b[0m\u001b[0;34m\u001b[0m\u001b[0m\n\u001b[0m\u001b[1;32m      2\u001b[0m \u001b[0;34m(\u001b[0m\u001b[0mint\u001b[0m\u001b[0;34m)\u001b[0m\u001b[0;34m\u001b[0m\u001b[0;34m\u001b[0m\u001b[0m\n\u001b[1;32m      3\u001b[0m \u001b[0mmy_int\u001b[0m \u001b[0;34m=\u001b[0m \u001b[0;36m42\u001b[0m\u001b[0;34m\u001b[0m\u001b[0;34m\u001b[0m\u001b[0m\n\u001b[1;32m      4\u001b[0m \u001b[0;34m\u001b[0m\u001b[0m\n\u001b[1;32m      5\u001b[0m \u001b[0;34m(\u001b[0m\u001b[0mfloat\u001b[0m\u001b[0;34m)\u001b[0m\u001b[0;34m\u001b[0m\u001b[0;34m\u001b[0m\u001b[0m\n",
            "\u001b[0;31mNameError\u001b[0m: name 'python' is not defined"
          ]
        }
      ],
      "source": [
        "python\n",
        "(int)\n",
        "my_int = 42\n",
        "\n",
        "(float)\n",
        "my_float = 3.14\n",
        "\n",
        "(str)\n",
        "my_string = \"Привет, мир!\"\n",
        "\n",
        "(bool)\n",
        "my_bool = True"
      ]
    },
    {
      "cell_type": "markdown",
      "source": [
        "Задание №2"
      ],
      "metadata": {
        "id": "R4ttxidRGML9"
      }
    },
    {
      "cell_type": "code",
      "source": [
        "my_name = \"Артём\"\n",
        "my_age = \"20\"\n",
        "\n",
        "print(\"Имя:\", my_name)\n",
        "print(\"Возраст:\", my_age)"
      ],
      "metadata": {
        "colab": {
          "base_uri": "https://localhost:8080/"
        },
        "id": "rEqg_xFyEjSW",
        "outputId": "4da8b7c3-57e4-49ab-cb64-f296c5532920"
      },
      "execution_count": 3,
      "outputs": [
        {
          "output_type": "stream",
          "name": "stdout",
          "text": [
            "Имя: Артём\n",
            "Возраст: 20\n"
          ]
        }
      ]
    },
    {
      "cell_type": "markdown",
      "source": [
        "Задание №3"
      ],
      "metadata": {
        "id": "ojZdYcyIGOhe"
      }
    },
    {
      "cell_type": "code",
      "source": [
        "variable1 = 342\n",
        "variable2 = 56.2\n",
        "variable3 = '43'\n",
        "\n",
        "variable3_int = int(variable3)\n",
        "\n",
        "result = variable1 + variable2 + variable3_int\n",
        "\n",
        "print(result)"
      ],
      "metadata": {
        "colab": {
          "base_uri": "https://localhost:8080/"
        },
        "id": "VgJOsCUEUO1v",
        "outputId": "f5ffc6e0-5297-49f2-e32b-cf6a5558d9a6"
      },
      "execution_count": 5,
      "outputs": [
        {
          "output_type": "stream",
          "name": "stdout",
          "text": [
            "441.2\n"
          ]
        }
      ]
    },
    {
      "cell_type": "markdown",
      "source": [
        "Задание №4"
      ],
      "metadata": {
        "id": "0UrXczMkGQbU"
      }
    },
    {
      "cell_type": "code",
      "source": [
        "# Объявление переменных\n",
        "a = 3\n",
        "b = 8\n",
        "\n",
        "# Вычисление выражения (a + 4*b) * (a - 3*b) + a**2\n",
        "result = (a + 4 * b) * (a - 3 * b) + a ** 2\n",
        "\n",
        "# Вывод результата в консоль\n",
        "print(result)\n"
      ],
      "metadata": {
        "id": "h15qspjjUiSt"
      },
      "execution_count": null,
      "outputs": []
    },
    {
      "cell_type": "markdown",
      "source": [
        "Задание №5"
      ],
      "metadata": {
        "id": "sXC10nOxGSUq"
      }
    },
    {
      "cell_type": "code",
      "source": [
        "width = float(input(\"Введите ширину прямоугольника: \"))\n",
        "height = float(input(\"Введите высоту прямоугольника: \"))\n",
        "\n",
        "area = width * height\n",
        "perimeter = 2 * (width + height)\n",
        "\n",
        "print(\"Площадь прямоугольника =\", area)\n",
        "print(\"Периметр прямоугольника =\", perimeter)"
      ],
      "metadata": {
        "id": "f7wyTkeaUsEy"
      },
      "execution_count": null,
      "outputs": []
    },
    {
      "cell_type": "markdown",
      "source": [
        "Задание №6"
      ],
      "metadata": {
        "id": "QFY3OZzgGUBe"
      }
    },
    {
      "cell_type": "code",
      "source": [
        "print(\"*  *  *\")\n",
        "print(\" ***** \")\n",
        "print(\"  * * \")"
      ],
      "metadata": {
        "colab": {
          "base_uri": "https://localhost:8080/"
        },
        "id": "6phlCwGXG3Yh",
        "outputId": "bedb52ee-ee0a-4068-9810-690d05b7c2e1"
      },
      "execution_count": null,
      "outputs": [
        {
          "output_type": "stream",
          "name": "stdout",
          "text": [
            "*  *  *\n",
            " ***** \n",
            "  * * \n"
          ]
        }
      ]
    },
    {
      "cell_type": "markdown",
      "source": [
        "Задание №7"
      ],
      "metadata": {
        "id": "Crt2Qo42GWnZ"
      }
    },
    {
      "cell_type": "code",
      "source": [
        "a = 10\n",
        "b = 3\n",
        "\n",
        "print(\"Сумма =\", a + b)\n",
        "print(\"Разность =\", a - b)\n",
        "print(\"Произведение =\", a * b)\n",
        "print(\"Деление =\", a / b)\n",
        "print(\"Остаток от деления =\", a % b)\n",
        "print(\"Возведение в степень =\", a ** b)\n",
        "print(\"Целочисленное деление =\", a // b)\n",
        "\n",
        "print(\"a > b =\", a > b)\n",
        "print(\"a < b =\", a < b)\n",
        "print(\"a == b =\", a == b)\n",
        "print(\"a != b =\", a != b)\n",
        "print(\"a >= b =\", a >= b)\n",
        "print(\"a <= b =\", a <= b)"
      ],
      "metadata": {
        "colab": {
          "base_uri": "https://localhost:8080/"
        },
        "id": "5uUVywP8Uy5e",
        "outputId": "0bd80e03-abbf-4c3b-e1a2-5fa379e9c9d0"
      },
      "execution_count": 6,
      "outputs": [
        {
          "output_type": "stream",
          "name": "stdout",
          "text": [
            "Сумма = 13\n",
            "Разность = 7\n",
            "Произведение = 30\n",
            "Деление = 3.3333333333333335\n",
            "Остаток от деления = 1\n",
            "Возведение в степень = 1000\n",
            "Целочисленное деление = 3\n",
            "a > b = True\n",
            "a < b = False\n",
            "a == b = False\n",
            "a != b = True\n",
            "a >= b = True\n",
            "a <= b = False\n"
          ]
        }
      ]
    },
    {
      "cell_type": "markdown",
      "source": [
        "Задание №8"
      ],
      "metadata": {
        "id": "F9koex1PGY0W"
      }
    },
    {
      "cell_type": "code",
      "source": [
        "name = \"Алексей\"\n",
        "age = 30\n",
        "\n",
        "print(f\"Меня зовут {name}, мне {age} лет\")"
      ],
      "metadata": {
        "colab": {
          "base_uri": "https://localhost:8080/"
        },
        "id": "s8ssc6kPVCnD",
        "outputId": "1f2c4d62-4573-4ec6-8493-2ab07834f81d"
      },
      "execution_count": 7,
      "outputs": [
        {
          "output_type": "stream",
          "name": "stdout",
          "text": [
            "Меня зовут Алексей, мне 30 лет\n"
          ]
        }
      ]
    },
    {
      "cell_type": "markdown",
      "source": [
        "Задание №9"
      ],
      "metadata": {
        "id": "RcT7BHsFGauO"
      }
    },
    {
      "cell_type": "code",
      "source": [
        "part1 = \"Съешь ещё\"\n",
        "part2 = \"этих мягких\"\n",
        "part3 = \"французских булок,\"\n",
        "part4 = \"да выпей\"\n",
        "part5 = \"чаю\"\n",
        "\n",
        "sentence = part1 + \" \" + part2 + \" \" + part3 + \" \" + part4 + \" \" + part5\n",
        "\n",
        "print(sentence)"
      ],
      "metadata": {
        "colab": {
          "base_uri": "https://localhost:8080/"
        },
        "id": "qBZ2EVgyVVJa",
        "outputId": "00800796-7e1e-490b-cd03-ff51715bfeef"
      },
      "execution_count": 8,
      "outputs": [
        {
          "output_type": "stream",
          "name": "stdout",
          "text": [
            "Съешь ещё этих мягких французских булок, да выпей чаю\n"
          ]
        }
      ]
    },
    {
      "cell_type": "markdown",
      "source": [
        "Задание №10"
      ],
      "metadata": {
        "id": "fQC3pQQoGcT7"
      }
    },
    {
      "cell_type": "code",
      "source": [
        "sentence = (\"Нет! Да! \" * 4).strip()\n",
        "\n",
        "print(sentence)"
      ],
      "metadata": {
        "colab": {
          "base_uri": "https://localhost:8080/"
        },
        "id": "dFr0agUcVxXw",
        "outputId": "f03c1130-c181-465c-f932-222d598bd0f7"
      },
      "execution_count": 9,
      "outputs": [
        {
          "output_type": "stream",
          "name": "stdout",
          "text": [
            "Нет! Да! Нет! Да! Нет! Да! Нет! Да!\n"
          ]
        }
      ]
    },
    {
      "cell_type": "markdown",
      "source": [
        "Задание №11"
      ],
      "metadata": {
        "id": "_Kz83N1qGerX"
      }
    },
    {
      "cell_type": "code",
      "source": [
        "numbers = input(\"Введите три числа, разделенных запятой: \")\n",
        "num1_str, num2_str, num3_str = numbers.split(',')\n",
        "\n",
        "num1 = int(num1_str.strip())\n",
        "num2 = int(num2_str.strip())\n",
        "num3 = int(num3_str.strip())\n",
        "\n",
        "result = (num1 + num3) // num2\n",
        "print(\"Результат вычисления: \" + str(result))"
      ],
      "metadata": {
        "colab": {
          "base_uri": "https://localhost:8080/"
        },
        "id": "hgNqdgaXV49Q",
        "outputId": "4140bd4a-5b5c-4434-d63f-1cc6d972a7b5"
      },
      "execution_count": 10,
      "outputs": [
        {
          "output_type": "stream",
          "name": "stdout",
          "text": [
            "Введите три числа, разделенных запятой: 2, 4, 5\n",
            "Результат вычисления: 1\n"
          ]
        }
      ]
    },
    {
      "cell_type": "markdown",
      "source": [
        "Задание №12"
      ],
      "metadata": {
        "id": "JkiSyAFyGhND"
      }
    },
    {
      "cell_type": "code",
      "source": [
        "word = input(\"Введите слово, содержащее не менее 10 символов: \")\n",
        "\n",
        "if len(word) < 10:\n",
        "    print(\"Слово должно содержать не менее 10 символов.\")\n",
        "else:\n",
        "    first_four = word[:4]\n",
        "    print(\"Первые 4 символа:\", first_four)\n",
        "\n",
        "    last_two = word[-2:]\n",
        "    print(\"Последние 2 символа:\", last_two)\n",
        "\n",
        "    middle_slice = word[4:8]\n",
        "    print(\"Символы от 4 до 8:\", middle_slice)\n",
        "\n",
        "    reversed_word = word[::-1]\n",
        "    print(\"Перевёрнутое слово:\", reversed_word)"
      ],
      "metadata": {
        "colab": {
          "base_uri": "https://localhost:8080/"
        },
        "id": "tHJiMmLvWT-f",
        "outputId": "56f22204-96e6-4be1-9299-50934d8bba15"
      },
      "execution_count": 12,
      "outputs": [
        {
          "output_type": "stream",
          "name": "stdout",
          "text": [
            "Введите слово, содержащее не менее 10 символов: гидроэвуляция\n",
            "Первые 4 символа: гидр\n",
            "Последние 2 символа: ия\n",
            "Символы от 4 до 8: оэву\n",
            "Перевёрнутое слово: яицялувэордиг\n"
          ]
        }
      ]
    }
  ]
}