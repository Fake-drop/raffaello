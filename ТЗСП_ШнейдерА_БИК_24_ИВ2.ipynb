{
  "nbformat": 4,
  "nbformat_minor": 0,
  "metadata": {
    "colab": {
      "provenance": [],
      "authorship_tag": "ABX9TyMNQw6ekTYBRki2vvAK28Q9",
      "include_colab_link": true
    },
    "kernelspec": {
      "name": "python3",
      "display_name": "Python 3"
    },
    "language_info": {
      "name": "python"
    }
  },
  "cells": [
    {
      "cell_type": "markdown",
      "metadata": {
        "id": "view-in-github",
        "colab_type": "text"
      },
      "source": [
        "<a href=\"https://colab.research.google.com/github/Fake-drop/raffaello/blob/main/%D0%A2%D0%97%D0%A1%D0%9F_%D0%A8%D0%BD%D0%B5%D0%B9%D0%B4%D0%B5%D1%80%D0%90_%D0%91%D0%98%D0%9A_24_%D0%98%D0%922.ipynb\" target=\"_parent\"><img src=\"https://colab.research.google.com/assets/colab-badge.svg\" alt=\"Open In Colab\"/></a>"
      ]
    },
    {
      "cell_type": "markdown",
      "source": [
        "Задание №1"
      ],
      "metadata": {
        "id": "6uxyzZahGImk"
      }
    },
    {
      "cell_type": "code",
      "execution_count": null,
      "metadata": {
        "id": "DQxyB7-oGH6N"
      },
      "outputs": [],
      "source": []
    },
    {
      "cell_type": "markdown",
      "source": [
        "Задание №2"
      ],
      "metadata": {
        "id": "R4ttxidRGML9"
      }
    },
    {
      "cell_type": "markdown",
      "source": [
        "Задание №3"
      ],
      "metadata": {
        "id": "ojZdYcyIGOhe"
      }
    },
    {
      "cell_type": "markdown",
      "source": [
        "Задание №4"
      ],
      "metadata": {
        "id": "0UrXczMkGQbU"
      }
    },
    {
      "cell_type": "markdown",
      "source": [
        "Задание №5"
      ],
      "metadata": {
        "id": "sXC10nOxGSUq"
      }
    },
    {
      "cell_type": "markdown",
      "source": [
        "Задание №6"
      ],
      "metadata": {
        "id": "QFY3OZzgGUBe"
      }
    },
    {
      "cell_type": "code",
      "source": [
        "print(\"*  *  *\")\n",
        "print(\" ***** \")\n",
        "print(\"  * * \")"
      ],
      "metadata": {
        "colab": {
          "base_uri": "https://localhost:8080/"
        },
        "id": "6phlCwGXG3Yh",
        "outputId": "bedb52ee-ee0a-4068-9810-690d05b7c2e1"
      },
      "execution_count": 2,
      "outputs": [
        {
          "output_type": "stream",
          "name": "stdout",
          "text": [
            "*  *  *\n",
            " ***** \n",
            "  * * \n"
          ]
        }
      ]
    },
    {
      "cell_type": "markdown",
      "source": [
        "Задание №7"
      ],
      "metadata": {
        "id": "Crt2Qo42GWnZ"
      }
    },
    {
      "cell_type": "markdown",
      "source": [
        "Задание №8"
      ],
      "metadata": {
        "id": "F9koex1PGY0W"
      }
    },
    {
      "cell_type": "markdown",
      "source": [
        "Задание №9"
      ],
      "metadata": {
        "id": "RcT7BHsFGauO"
      }
    },
    {
      "cell_type": "markdown",
      "source": [
        "Задание №10"
      ],
      "metadata": {
        "id": "fQC3pQQoGcT7"
      }
    },
    {
      "cell_type": "markdown",
      "source": [
        "Задание №11"
      ],
      "metadata": {
        "id": "_Kz83N1qGerX"
      }
    },
    {
      "cell_type": "markdown",
      "source": [
        "Задание №12"
      ],
      "metadata": {
        "id": "JkiSyAFyGhND"
      }
    }
  ]
}