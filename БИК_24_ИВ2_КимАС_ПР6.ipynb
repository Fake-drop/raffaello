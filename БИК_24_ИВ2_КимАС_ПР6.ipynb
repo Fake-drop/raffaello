{
  "nbformat": 4,
  "nbformat_minor": 0,
  "metadata": {
    "colab": {
      "provenance": [],
      "authorship_tag": "ABX9TyNtGvuJ3er5FTrOoWsB+MqK",
      "include_colab_link": true
    },
    "kernelspec": {
      "name": "python3",
      "display_name": "Python 3"
    },
    "language_info": {
      "name": "python"
    }
  },
  "cells": [
    {
      "cell_type": "markdown",
      "metadata": {
        "id": "view-in-github",
        "colab_type": "text"
      },
      "source": [
        "<a href=\"https://colab.research.google.com/github/Fake-drop/raffaello/blob/main/%D0%91%D0%98%D0%9A_24_%D0%98%D0%922_%D0%9A%D0%B8%D0%BC%D0%90%D0%A1_%D0%9F%D0%A06.ipynb\" target=\"_parent\"><img src=\"https://colab.research.google.com/assets/colab-badge.svg\" alt=\"Open In Colab\"/></a>"
      ]
    },
    {
      "cell_type": "markdown",
      "source": [
        "задача 1"
      ],
      "metadata": {
        "id": "ojhk5zZrZXck"
      }
    },
    {
      "cell_type": "code",
      "execution_count": 1,
      "metadata": {
        "colab": {
          "base_uri": "https://localhost:8080/"
        },
        "id": "oSNI2EkaX9rE",
        "outputId": "144b6476-4ad5-4ca2-d134-3cc8d2db33f9"
      },
      "outputs": [
        {
          "output_type": "stream",
          "name": "stdout",
          "text": [
            "2\n",
            "2\n",
            "2\n"
          ]
        }
      ],
      "source": [
        "n = int(input())\n",
        "m = int(input())\n",
        "total_sum = sum(range(n,m+1))\n",
        "print (f\"{total_sum}\")\n"
      ]
    },
    {
      "cell_type": "markdown",
      "source": [
        "задача 2"
      ],
      "metadata": {
        "id": "GL5pBx4xZWV8"
      }
    },
    {
      "cell_type": "code",
      "source": [
        "total_sum = 0\n",
        "while True:\n",
        "\n",
        "  n = int(input())\n",
        "  m = int(input())\n",
        "  if n == m:\n",
        "    print(\"ATTENTION!!! Одинаковые числа\")\n",
        "    break\n",
        "  total_sum = n + m\n",
        "  print(f\"сумма:{total_sum}\")\n"
      ],
      "metadata": {
        "colab": {
          "base_uri": "https://localhost:8080/"
        },
        "id": "ygoq99zVZcDP",
        "outputId": "ee7fab79-d6f1-4dd4-af14-54ea88a2cb92"
      },
      "execution_count": 2,
      "outputs": [
        {
          "output_type": "stream",
          "name": "stdout",
          "text": [
            "1\n",
            "2\n",
            "сумма:3\n",
            "1\n",
            "1\n",
            "ATTENTION!!! Одинаковые числа\n"
          ]
        }
      ]
    },
    {
      "cell_type": "markdown",
      "source": [
        "задача 3"
      ],
      "metadata": {
        "id": "jprms7rfc6Ls"
      }
    },
    {
      "cell_type": "code",
      "source": [
        "with open(\"input.txt\",\"r\", encoding\"\")"
      ],
      "metadata": {
        "id": "YK4xS4cVc_a3"
      },
      "execution_count": null,
      "outputs": []
    }
  ]
}