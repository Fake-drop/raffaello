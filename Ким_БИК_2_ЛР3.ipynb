{
  "nbformat": 4,
  "nbformat_minor": 0,
  "metadata": {
    "colab": {
      "provenance": [],
      "authorship_tag": "ABX9TyM3jz10teixMRw5LenpYEsd",
      "include_colab_link": true
    },
    "kernelspec": {
      "name": "python3",
      "display_name": "Python 3"
    },
    "language_info": {
      "name": "python"
    }
  },
  "cells": [
    {
      "cell_type": "markdown",
      "metadata": {
        "id": "view-in-github",
        "colab_type": "text"
      },
      "source": [
        "<a href=\"https://colab.research.google.com/github/Fake-drop/raffaello/blob/main/%D0%9A%D0%B8%D0%BC_%D0%91%D0%98%D0%9A_2_%D0%9B%D0%A03.ipynb\" target=\"_parent\"><img src=\"https://colab.research.google.com/assets/colab-badge.svg\" alt=\"Open In Colab\"/></a>"
      ]
    },
    {
      "cell_type": "code",
      "execution_count": 4,
      "metadata": {
        "colab": {
          "base_uri": "https://localhost:8080/"
        },
        "id": "Ej2tpryqFzbc",
        "outputId": "b53ffadb-958e-4193-d818-d9c94a55c62a"
      },
      "outputs": [
        {
          "output_type": "stream",
          "name": "stdout",
          "text": [
            "3, 4, 4, 3\n"
          ]
        }
      ],
      "source": [
        "input = \"абв, абвг, вбгд, абд\"\n",
        "parts = input_string.split(\", \")\n",
        "lengths = [len(part) for part in parts]\n",
        "print(\", \".join(map(str, lengths)))"
      ]
    },
    {
      "cell_type": "code",
      "source": [
        " = \"Привет, т, мир \"\n",
        "n = 8\n",
        "m = 5\n"
      ],
      "metadata": {
        "id": "c0Usehk0JmsD"
      },
      "execution_count": null,
      "outputs": []
    }
  ]
}